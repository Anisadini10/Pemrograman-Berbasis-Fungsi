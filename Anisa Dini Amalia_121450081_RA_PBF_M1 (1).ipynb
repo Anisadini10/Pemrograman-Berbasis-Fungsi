{
 "cells": [
  {
   "cell_type": "markdown",
   "metadata": {},
   "source": [
    "#  Soal 1 "
   ]
  },
  {
   "cell_type": "markdown",
   "metadata": {},
   "source": [
    "Jelaskan menggunakan tabel mengenai kelebihan dan kekurangan \n",
    "paradigma procedural dibandingkan dengan object oriented (minimal 3) !"
   ]
  },
  {
   "cell_type": "markdown",
   "metadata": {},
   "source": [
    "|Paradigma Prosedural| |Paradigma Object Oriented|\n",
    "|--------------------| |-------------------------|\n",
    "|Berfokus pada fungsi dan prosedur yang beroperasi pada data| |Menekankan pada data yang sedang beroperasi dan tidak menekankan pada prosedural|\n",
    "|Data bebas bergerak di sekitar sistem dari satu fungsi lain| |Data tersembunyi dan tidak dapat diakses oleh fungsi eksternal|\n",
    "|Data bersifat pasif| |Datanya bersifat aktif|\n",
    "|Program terbagi menjadi unit kecil yang disebut fungsi| |Program terbagi ke dalam unit yang disebut objek|\n",
    "\n"
   ]
  },
  {
   "cell_type": "markdown",
   "metadata": {},
   "source": [
    "# Nomor 2"
   ]
  },
  {
   "cell_type": "markdown",
   "metadata": {},
   "source": [
    "Jelaskan menggunakan tabel mengenai kelebihan dan kekurangan \n",
    "paradigma object oriented dibandingkan dengan functional (minimal 3) !"
   ]
  },
  {
   "cell_type": "markdown",
   "metadata": {},
   "source": [
    "|Paradigma Functional| |Paradigma Object Oriented|\n",
    "|--------------------| |-------------------------|\n",
    "|Membuat suatu program menjadi modular atau dapat ditambah dan dikurangi fiturnya| |Kemudahan dalam manajemen kode|\n",
    "|Membantu proses debug lebih cepat karena dapat ditrack berdasarkan fungsi yang mengalami eror| |Program yang dibuat membutuhkan waktu lebih lama|\n",
    "|Relatif sulit untuk dipelajari| |Pengolahan data lebih mudah dipahami karena meniru objek nyata|\n"
   ]
  },
  {
   "cell_type": "markdown",
   "metadata": {},
   "source": [
    "# Nomor 3\n",
    "\n",
    "Jelaskan menggunakan tabel mengenai kelebihan dan kekurangan \n",
    "paradigma procedural dibandingkan dengan functional (minimal 3) !"
   ]
  },
  {
   "cell_type": "markdown",
   "metadata": {},
   "source": [
    "|Paradigma Prosedural| |Paradigma Functional|\n",
    "|--------------------| |-------------------------|\n",
    "|Berfokus pada fungsi dan prosedur yang beroperasi pada data| |Berfokus pada fungsi matematika murni|\n",
    "|Program berjalan lebih cepat dengan paradigma ini dibandingkan paradigma Functional| |Program yang dihasilkan dengan bahasa pemrograman yang menggunakan paradigma ini biasanya membutuhkan waktu pemrosesan yang lebih lama dibandingkan dengan yang menggunakan paradigma prosedural karena dibutuhkan waktu lebih untuk memproses fungsi-fungsi yang digunakan dalam membuat program.|\n",
    "|Data bersifat pasif| |Data tidak dapat diubah|\n"
   ]
  },
  {
   "cell_type": "markdown",
   "metadata": {},
   "source": [
    "# Nomor 4\n",
    "\n",
    "Apa yang dimaksud dengan pure functional programming language"
   ]
  },
  {
   "cell_type": "markdown",
   "metadata": {},
   "source": [
    "=> Bahasa pemrograman yang memiliki fungsi alami tanpa bergantung pada kode ekternal apapun untuk menyelasaikan tugasnya."
   ]
  },
  {
   "cell_type": "markdown",
   "metadata": {},
   "source": [
    "# Nomor 5\n",
    "Dari bahasa pemrograman FP di slide sebelumnya ( slide 14 ) , manakah \n",
    "yang termasuk pure functional programming language?"
   ]
  },
  {
   "cell_type": "markdown",
   "metadata": {},
   "source": [
    "=> Haskel"
   ]
  },
  {
   "cell_type": "markdown",
   "metadata": {},
   "source": [
    "# Nomor 6\n",
    "Membuat program Simple Password encryption, dengan ketentuan\n",
    "1. Input password bertipe string dengan batasan panjang  password \n",
    "100 karakter\n",
    "2. Setiap karakter dari string tersebut diubah menjadi ASCII value\n",
    "3. Kemudian setiap ASCII value tersebut dikembangkan menjadi 3 \n",
    "value dengan dilakukan operasi berikut:\n",
    "1. Value pertama dibagi dengan integer 26 kemudian \n",
    "dibulatkan dan dijumlahkan dengan 80 kemudian diubah \n",
    "kembali menjadi karakter\n",
    "2. Value kedua dihitung sisa bagi dengan 26 kemudian \n",
    "dijumlahkan dengan 80 kemudian diubah kembali menjadi \n",
    "karakter\n",
    "3. Value ketiga adalah karakter ‘+’ jika value pertama lebih \n",
    "besar dari value kedua, atau value ketiga adalah karakter ‘-’ \n",
    "jika value pertama tidak lebih besar dari value kedua\n",
    "4. Deretkan value pertama, kedua dan ketiga untuk setiap karakter \n",
    "dalam password tersebut sehingga didapatkan password dalam \n",
    "bentuk baru"
   ]
  },
  {
   "cell_type": "code",
   "execution_count": 67,
   "metadata": {},
   "outputs": [],
   "source": [
    "def enskripsi_password(keypass):\n",
    "    password_terenskripsi = \"\"\n",
    "    for char in keypass:\n",
    "        ascii_value = ord(char)\n",
    "        nilai_pertama = round((ascii_value / 26)) + 80\n",
    "        nilai_kedua = (ascii_value % 26) + 80\n",
    "        nilai_ketiga = '+' if nilai_pertama > nilai_kedua else '-'\n",
    "        password_terenskripsi += chr(nilai_pertama) + chr(nilai_kedua) + nilai_ketiga\n",
    "    return password_terenskripsi"
   ]
  },
  {
   "cell_type": "code",
   "execution_count": 68,
   "metadata": {},
   "outputs": [
    {
     "data": {
      "text/plain": [
       "'TR+Tc-TV-Ti-Tc-TV-TT-T]-TX-Tc-T[-TP+TW-TT-Tc-T\\\\-'"
      ]
     },
     "execution_count": 68,
     "metadata": {},
     "output_type": "execute_result"
    }
   ],
   "source": [
    "enskripsi_password(\"janganlupasholat\")"
   ]
  },
  {
   "cell_type": "code",
   "execution_count": null,
   "metadata": {},
   "outputs": [],
   "source": []
  }
 ],
 "metadata": {
  "kernelspec": {
   "display_name": "Python 3 (ipykernel)",
   "language": "python",
   "name": "python3"
  },
  "language_info": {
   "codemirror_mode": {
    "name": "ipython",
    "version": 3
   },
   "file_extension": ".py",
   "mimetype": "text/x-python",
   "name": "python",
   "nbconvert_exporter": "python",
   "pygments_lexer": "ipython3",
   "version": "3.10.7"
  }
 },
 "nbformat": 4,
 "nbformat_minor": 4
}
